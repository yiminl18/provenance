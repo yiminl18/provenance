{
 "cells": [
  {
   "cell_type": "code",
   "execution_count": 1,
   "metadata": {},
   "outputs": [],
   "source": [
    "import base64, gzip, json, os, re, sys\n",
    "from collections import Counter\n",
    "from pprint import pprint\n",
    "from json.decoder import JSONDecodeError\n",
    "\n",
    "# can be repeated on training dataset\n",
    "dataset = \"fullwiki\"\n",
    "DATA_DIR = os.path.join(os.path.expanduser(\"~\"), \"data\", \"hotpotQA\", f\"hotpot_dev_{dataset}_v1.json\")"
   ]
  },
  {
   "cell_type": "code",
   "execution_count": 2,
   "metadata": {},
   "outputs": [],
   "source": [
    "fullwiki_data = json.load(open(DATA_DIR, 'r'))"
   ]
  },
  {
   "cell_type": "code",
   "execution_count": null,
   "metadata": {},
   "outputs": [],
   "source": [
    "fullwiki_data[0].keys()"
   ]
  },
  {
   "cell_type": "code",
   "execution_count": 4,
   "metadata": {},
   "outputs": [],
   "source": [
    "dataset = \"distractor\"\n",
    "DATA_DIR = os.path.join(os.path.expanduser(\"~\"), \"data\", \"hotpotQA\", f\"hotpot_dev_{dataset}_v1.json\")\n",
    "distractor_data = json.load(open(DATA_DIR, 'r'))"
   ]
  },
  {
   "cell_type": "code",
   "execution_count": null,
   "metadata": {},
   "outputs": [],
   "source": [
    "distractor_data[3]"
   ]
  },
  {
   "cell_type": "code",
   "execution_count": null,
   "metadata": {},
   "outputs": [],
   "source": []
  }
 ],
 "metadata": {
  "kernelspec": {
   "display_name": ".venv",
   "language": "python",
   "name": "python3"
  },
  "language_info": {
   "codemirror_mode": {
    "name": "ipython",
    "version": 3
   },
   "file_extension": ".py",
   "mimetype": "text/x-python",
   "name": "python",
   "nbconvert_exporter": "python",
   "pygments_lexer": "ipython3",
   "version": "3.11.9"
  }
 },
 "nbformat": 4,
 "nbformat_minor": 2
}
