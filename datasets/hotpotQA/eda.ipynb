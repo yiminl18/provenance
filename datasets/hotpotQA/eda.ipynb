{
 "cells": [
  {
   "cell_type": "code",
   "execution_count": 3,
   "metadata": {},
   "outputs": [],
   "source": [
    "import base64, gzip, json, os, re, sys\n",
    "from collections import Counter\n",
    "from pprint import pprint\n",
    "from json.decoder import JSONDecodeError\n",
    "\n",
    "# can be repeated on training dataset\n",
    "dataset = \"fullwiki\"\n",
    "DATA_DIR = os.path.join(os.path.expanduser(\"~\"), \"data\", \"hotpotQA\", f\"hotpot_dev_{dataset}_v1.json\")"
   ]
  },
  {
   "cell_type": "code",
   "execution_count": 4,
   "metadata": {},
   "outputs": [],
   "source": [
    "dev_data = json.load(open(DATA_DIR, 'r'))"
   ]
  },
  {
   "cell_type": "code",
   "execution_count": 5,
   "metadata": {},
   "outputs": [
    {
     "data": {
      "text/plain": [
       "dict_keys(['_id', 'answer', 'question', 'supporting_facts', 'context', 'type', 'level'])"
      ]
     },
     "execution_count": 5,
     "metadata": {},
     "output_type": "execute_result"
    }
   ],
   "source": [
    "dev_data[0].keys()"
   ]
  },
  {
   "cell_type": "code",
   "execution_count": 8,
   "metadata": {},
   "outputs": [
    {
     "data": {
      "text/plain": [
       "{'_id': '5adbf0a255429947ff17385a',\n",
       " 'answer': 'no',\n",
       " 'question': 'Are the Laleli Mosque and Esma Sultan Mansion located in the same neighborhood?',\n",
       " 'supporting_facts': [['Laleli Mosque', 0], ['Esma Sultan Mansion', 0]],\n",
       " 'context': [['Esma Sultan',\n",
       "   ['Esma Sultan is the name of three daughters of three Ottoman Sultans:']],\n",
       "  ['Esma Sultan (daughter of Abdul Hamid I)',\n",
       "   ['Esma Sultan (17 July 1778 – 4 June 1848) was an Ottoman princess, daughter of Sultan Abdul Hamid I, sister of Sultan Mustafa IV and Sultan Mahmud II.',\n",
       "    ' She was the adoptive mother of Bezmiâlem Sultan and Rahime Perestu Sultan.']],\n",
       "  ['Laleli Mosque',\n",
       "   ['The Laleli Mosque (Turkish: \"Laleli Camii, or Tulip Mosque\" ) is an 18th-century Ottoman imperial mosque located in Laleli, Fatih, Istanbul, Turkey.']],\n",
       "  ['Gevheri Kadın',\n",
       "   ['Gevheri Kadın (8 July 1856\\xa0– 6 September 1884) was the fifth wife of 32nd Ottoman Sultan Abdülaziz.',\n",
       "    ' She was the mother of Şehzade Mehmed Seyfeddin and Esma Sultan of the Ottoman Empire.']],\n",
       "  ['Esma Sultan (daughter of Ahmed III)',\n",
       "   ['Esma Sultan (14 March 1726 – 13 August 1788) was an Ottoman princess, daughter of Sultan Ahmed III and his consort Zeynep Kadın.',\n",
       "    ' She was the half-sister of Sultan Mustafa III and Abdul Hamid I.']],\n",
       "  ['Djamaâ el Kebir',\n",
       "   ['The Great Mosque of Algiers (Arabic: الجامع الكبير\\u200e \\u200e , \"Jemaa Kebir\") or “Djama’a al-Kebir” (meaning Great Mosque) is a mosque in Algiers, Algeria, located very close to Algiers Harbor.',\n",
       "    ' An inscription on the minbar (منبر) or the pulpit testifies to fact that the mosque was built in 1097.',\n",
       "    \" It is also known by several other names such as Grand Mosque d'Alger, Djamaa al-Kebir, El Kebir Mosque and Jami Masjid.\",\n",
       "    ' It is one of the few remaining examples of Almoravid architecture.',\n",
       "    ' It is the oldest mosque in Algiers and is said to be the oldest mosque in Algeria after Sidi Okba Mosque.',\n",
       "    ' It was built under sultan Ali ibn Yusuf.',\n",
       "    ' Its minaret dates from 1332 (1324 in some sources) and was built by the Ziyyanid Sultan of Tlemcen.',\n",
       "    ' The gallery at the outside of the mosque was built in 1840.',\n",
       "    ' Its construction was a consequence of a complete reconstruction of the street by the French.']],\n",
       "  ['Sultan Ahmed Mosque',\n",
       "   ['The Sultan Ahmed Mosque or Sultan Ahmet Mosque (Turkish: \"Sultan Ahmet Camii\" ) is a historic mosque located in Istanbul, Turkey.',\n",
       "    \" A popular tourist site, the Sultan Ahmed Mosque continues to function as a mosque today; men still kneel in prayer on the mosque's lush red carpet after the call to prayer.\",\n",
       "    ' The Blue Mosque, as it is popularly known, was constructed between 1609 and 1616 during the rule of Ahmed I.',\n",
       "    \" Its Külliye contains Ahmed's tomb, a madrasah and a hospice.\",\n",
       "    ' Hand-painted blue tiles adorn the mosque’s interior walls, and at night the mosque is bathed in blue as lights frame the mosque’s five main domes, six minarets and eight secondary domes.',\n",
       "    ' It sits next to the Hagia Sophia, another popular tourist site.']],\n",
       "  ['Esma Sultan (daughter of Abdülaziz)',\n",
       "   ['Esma Sultan (21 March 1873 – 7 May 1899) was an Ottoman princess, the daughter of Sultan Abdülaziz and his wife Gevheri Kadın, herself the daughter of Salih Bey Svatnba.',\n",
       "    ' She was the half-sister of Abdülmecid II, the last Caliph of the Muslim world.']],\n",
       "  ['Küçük Hüseyin Pasha',\n",
       "   ['Küçük Hüseyin Pasha (1757 – 7 December 1803), also known as Tayazade Damat Küçük Hüseyin Pasha, was an Ottoman statesman and admiral who was Kapudan Pasha (Grand Admiral of the Ottoman Navy) from 11 March 1792 to 7 December 1803.',\n",
       "    ' He was a \"damat\" (\"bridegroom\") to the Ottoman dynasty after he married an Ottoman princess, Esma Sultan.']],\n",
       "  ['Esma Sultan Mansion',\n",
       "   ['The Esma Sultan Mansion (Turkish: \"Esma Sultan Yalısı\" ), a historical yalı (English: waterside mansion ) located at Bosphorus in Ortaköy neighborhood of Istanbul, Turkey and named after its original owner Esma Sultan, is used today as a cultural center after being redeveloped.']]],\n",
       " 'type': 'comparison',\n",
       " 'level': 'hard'}"
      ]
     },
     "execution_count": 8,
     "metadata": {},
     "output_type": "execute_result"
    }
   ],
   "source": []
  },
  {
   "cell_type": "code",
   "execution_count": null,
   "metadata": {},
   "outputs": [],
   "source": []
  }
 ],
 "metadata": {
  "kernelspec": {
   "display_name": ".venv",
   "language": "python",
   "name": "python3"
  },
  "language_info": {
   "codemirror_mode": {
    "name": "ipython",
    "version": 3
   },
   "file_extension": ".py",
   "mimetype": "text/x-python",
   "name": "python",
   "nbconvert_exporter": "python",
   "pygments_lexer": "ipython3",
   "version": "3.11.9"
  }
 },
 "nbformat": 4,
 "nbformat_minor": 2
}
